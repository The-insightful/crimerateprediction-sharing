{
 "cells": [
  {
   "cell_type": "code",
   "execution_count": null,
   "id": "b735bb68",
   "metadata": {},
   "outputs": [],
   "source": [
    "import pandas as pd\n",
    "import numpy as np"
   ]
  },
  {
   "cell_type": "code",
   "execution_count": null,
   "id": "7bba6244",
   "metadata": {},
   "outputs": [],
   "source": [
    "import seaborn as sns\n",
    "import matplotlib.pyplot as plt\n",
    "%matplotlib inline\n",
    "\n",
    "\n",
    "\n",
    "\n",
    "\n",
    "\n",
    "\n"
   ]
  },
  {
   "cell_type": "code",
   "execution_count": null,
   "id": "d25185a4",
   "metadata": {},
   "outputs": [],
   "source": [
    "import sys\n",
    "import os"
   ]
  },
  {
   "cell_type": "code",
   "execution_count": null,
   "id": "22830b2c",
   "metadata": {},
   "outputs": [],
   "source": [
    "conda install basemap"
   ]
  },
  {
   "cell_type": "code",
   "execution_count": null,
   "id": "61b71c04",
   "metadata": {},
   "outputs": [],
   "source": [
    "df = pd.read_csv(\"F:\\crime.csv\", encoding='latin-1')"
   ]
  },
  {
   "cell_type": "code",
   "execution_count": null,
   "id": "fe559249",
   "metadata": {},
   "outputs": [],
   "source": [
    "df.head()"
   ]
  },
  {
   "cell_type": "code",
   "execution_count": null,
   "id": "83e20abc",
   "metadata": {},
   "outputs": [],
   "source": [
    "def print_five_rows(name_column):\n",
    "    return df[name_column][0:5]"
   ]
  },
  {
   "cell_type": "code",
   "execution_count": null,
   "id": "9763fa9e",
   "metadata": {},
   "outputs": [],
   "source": [
    "from sklearn import linear_model\n",
    "import statsmodels.api as sm\n"
   ]
  },
  {
   "cell_type": "code",
   "execution_count": null,
   "id": "d1b56e9d",
   "metadata": {},
   "outputs": [],
   "source": [
    "def describe_column(name_column):\n",
    "    return df[name_column].describe()"
   ]
  },
  {
   "cell_type": "code",
   "execution_count": null,
   "id": "c30e0101",
   "metadata": {},
   "outputs": [],
   "source": [
    "def create_list_number_crime(name_column, list_unique):\n",
    "    # list_unique = df[name_column].unique()\n",
    "    \n",
    "    i = 0\n",
    "    \n",
    "    list_number = list()\n",
    "    \n",
    "    while i < len(list_unique):\n",
    "        list_number.append(len(df.loc[df[name_column] == list_unique[i]]))\n",
    "        i += 1\n",
    "    \n",
    "    return list_unique, list_number"
   ]
  },
  {
   "cell_type": "code",
   "execution_count": null,
   "id": "5c8dc31f",
   "metadata": {},
   "outputs": [],
   "source": [
    "def pie_plot(list_number, list_unique):\n",
    "    plt.figure(figsize=(20,10))\n",
    "    plt.pie(list_unique, \n",
    "        labels=list_number,\n",
    "        autopct='%1.1f%%', \n",
    "        shadow=True, \n",
    "        startangle=140)\n",
    " \n",
    "    plt.axis('equal')\n",
    "    plt.show()\n",
    "    return 0"
   ]
  },
  {
   "cell_type": "code",
   "execution_count": null,
   "id": "aba3d204",
   "metadata": {},
   "outputs": [],
   "source": [
    "def bar_chart(list_number, list_unique):\n",
    "    objects = list_unique\n",
    "    y_pos = np.arange(len(objects))\n",
    "    performance = list_number\n",
    " \n",
    "    plt.figure(figsize=(20,10))    \n",
    "    plt.bar(y_pos, performance, align='center', alpha=0.5)\n",
    "    plt.xticks(y_pos, objects)\n",
    "    plt.ylabel('Number') \n",
    "    plt.show()\n",
    "    \n",
    "    return 0\n"
   ]
  },
  {
   "cell_type": "code",
   "execution_count": null,
   "id": "50f5d5c4",
   "metadata": {},
   "outputs": [],
   "source": [
    "def drop_NaN_two_var(x, y):\n",
    "\n",
    "    df1 = df[[x, y]].dropna()\n",
    "    print(df1.shape)\n",
    "\n",
    "    x_value = df1[x]\n",
    "    y_value = df1[y]\n",
    "\n",
    "    del df1\n",
    "        \n",
    "    print(x + ': ' + str(x_value.shape))\n",
    "    print(y + ': ' + str(y_value.shape))\n",
    "        \n",
    "    return x_value, y_value"
   ]
  },
  {
   "cell_type": "code",
   "execution_count": null,
   "id": "e783fb8c",
   "metadata": {},
   "outputs": [],
   "source": [
    "def function_OLS_Regression(x, y):\n",
    "    \n",
    "    model = sm.OLS(y, x)\n",
    "    res = model.fit()\n",
    "    return res.summary()"
   ]
  },
  {
   "cell_type": "code",
   "execution_count": null,
   "id": "89836bd9",
   "metadata": {},
   "outputs": [],
   "source": [
    "df.shape"
   ]
  },
  {
   "cell_type": "code",
   "execution_count": null,
   "id": "7161b744",
   "metadata": {},
   "outputs": [],
   "source": [
    "df.columns"
   ]
  },
  {
   "cell_type": "code",
   "execution_count": null,
   "id": "1ad830d7",
   "metadata": {},
   "outputs": [],
   "source": [
    "df.isnull().sum()\n"
   ]
  },
  {
   "cell_type": "code",
   "execution_count": null,
   "id": "d73f7571",
   "metadata": {},
   "outputs": [],
   "source": [
    "print_five_rows('INCIDENT_NUMBER')"
   ]
  },
  {
   "cell_type": "code",
   "execution_count": null,
   "id": "89f6ea1c",
   "metadata": {},
   "outputs": [],
   "source": [
    "describe_column('INCIDENT_NUMBER')\n"
   ]
  },
  {
   "cell_type": "code",
   "execution_count": null,
   "id": "03e38d90",
   "metadata": {},
   "outputs": [],
   "source": [
    "df = df.drop('INCIDENT_NUMBER', 1)\n"
   ]
  },
  {
   "cell_type": "code",
   "execution_count": null,
   "id": "4b7dc361",
   "metadata": {},
   "outputs": [],
   "source": [
    "print_five_rows('OFFENSE_CODE')"
   ]
  },
  {
   "cell_type": "code",
   "execution_count": null,
   "id": "91f6439c",
   "metadata": {},
   "outputs": [],
   "source": [
    "len(df['OFFENSE_CODE'].unique())\n"
   ]
  },
  {
   "cell_type": "code",
   "execution_count": null,
   "id": "cdbbf206",
   "metadata": {},
   "outputs": [],
   "source": [
    "print_five_rows('OFFENSE_CODE_GROUP')"
   ]
  },
  {
   "cell_type": "code",
   "execution_count": null,
   "id": "ed9f8bdc",
   "metadata": {},
   "outputs": [],
   "source": [
    "describe_column('OFFENSE_CODE_GROUP')\n"
   ]
  },
  {
   "cell_type": "code",
   "execution_count": null,
   "id": "356d3eda",
   "metadata": {},
   "outputs": [],
   "source": [
    "print_five_rows('OFFENSE_DESCRIPTION')"
   ]
  },
  {
   "cell_type": "code",
   "execution_count": null,
   "id": "19ffe620",
   "metadata": {},
   "outputs": [],
   "source": [
    "describe_column('OFFENSE_DESCRIPTION')\n"
   ]
  },
  {
   "cell_type": "code",
   "execution_count": null,
   "id": "65f1db52",
   "metadata": {},
   "outputs": [],
   "source": [
    "print_five_rows('DISTRICT')\n"
   ]
  },
  {
   "cell_type": "code",
   "execution_count": null,
   "id": "ab528adc",
   "metadata": {},
   "outputs": [],
   "source": [
    "describe_column('DISTRICT')"
   ]
  },
  {
   "cell_type": "code",
   "execution_count": null,
   "id": "3fa246aa",
   "metadata": {},
   "outputs": [],
   "source": [
    "df['DISTRICT'].unique()\n"
   ]
  },
  {
   "cell_type": "code",
   "execution_count": null,
   "id": "c8516cc0",
   "metadata": {},
   "outputs": [],
   "source": [
    "print_five_rows('REPORTING_AREA')"
   ]
  },
  {
   "cell_type": "code",
   "execution_count": null,
   "id": "01b34023",
   "metadata": {},
   "outputs": [],
   "source": [
    "describe_column('REPORTING_AREA')"
   ]
  },
  {
   "cell_type": "code",
   "execution_count": null,
   "id": "7112fb27",
   "metadata": {},
   "outputs": [],
   "source": [
    "print_five_rows('SHOOTING')"
   ]
  },
  {
   "cell_type": "code",
   "execution_count": null,
   "id": "301854db",
   "metadata": {},
   "outputs": [],
   "source": [
    "df['SHOOTING'].unique()\n"
   ]
  },
  {
   "cell_type": "code",
   "execution_count": null,
   "id": "2aba389b",
   "metadata": {},
   "outputs": [],
   "source": [
    "print_five_rows('OCCURRED_ON_DATE')\n"
   ]
  },
  {
   "cell_type": "code",
   "execution_count": null,
   "id": "4afe8ffd",
   "metadata": {},
   "outputs": [],
   "source": [
    "df['OCCURRED_ON_DATE'] = pd.to_datetime(df['OCCURRED_ON_DATE'])\n"
   ]
  },
  {
   "cell_type": "code",
   "execution_count": null,
   "id": "58e8f818",
   "metadata": {},
   "outputs": [],
   "source": [
    "describe_column('OCCURRED_ON_DATE')\n"
   ]
  },
  {
   "cell_type": "code",
   "execution_count": null,
   "id": "940bd984",
   "metadata": {},
   "outputs": [],
   "source": [
    "print_five_rows('YEAR')"
   ]
  },
  {
   "cell_type": "code",
   "execution_count": null,
   "id": "9b407dcc",
   "metadata": {},
   "outputs": [],
   "source": [
    "df['MONTH'].unique()\n"
   ]
  },
  {
   "cell_type": "code",
   "execution_count": null,
   "id": "227c5239",
   "metadata": {},
   "outputs": [],
   "source": [
    "df['DAY_OF_WEEK'].unique()"
   ]
  },
  {
   "cell_type": "code",
   "execution_count": null,
   "id": "30946003",
   "metadata": {},
   "outputs": [],
   "source": [
    "df['HOUR'].unique()\n"
   ]
  },
  {
   "cell_type": "code",
   "execution_count": null,
   "id": "fccdc205",
   "metadata": {},
   "outputs": [],
   "source": [
    "df['UCR_PART'].unique()"
   ]
  },
  {
   "cell_type": "code",
   "execution_count": null,
   "id": "68947b88",
   "metadata": {},
   "outputs": [],
   "source": [
    "print_five_rows('STREET')\n"
   ]
  },
  {
   "cell_type": "code",
   "execution_count": null,
   "id": "e746ac8f",
   "metadata": {},
   "outputs": [],
   "source": [
    "describe_column('STREET')\n"
   ]
  },
  {
   "cell_type": "code",
   "execution_count": null,
   "id": "b61e1f47",
   "metadata": {},
   "outputs": [],
   "source": [
    "df[['Lat', 'Long']].head()\n"
   ]
  },
  {
   "cell_type": "code",
   "execution_count": null,
   "id": "98ae5195",
   "metadata": {},
   "outputs": [],
   "source": [
    "describe_column('Lat')"
   ]
  },
  {
   "cell_type": "code",
   "execution_count": null,
   "id": "b4d8a6f0",
   "metadata": {},
   "outputs": [],
   "source": [
    "describe_column('Long')\n"
   ]
  },
  {
   "cell_type": "code",
   "execution_count": null,
   "id": "52020141",
   "metadata": {},
   "outputs": [],
   "source": [
    "df['Location'].head()\n"
   ]
  },
  {
   "cell_type": "code",
   "execution_count": null,
   "id": "ca5b4061",
   "metadata": {},
   "outputs": [],
   "source": [
    "# VISUALIZATION PART"
   ]
  },
  {
   "cell_type": "code",
   "execution_count": null,
   "id": "d17ad932",
   "metadata": {},
   "outputs": [],
   "source": [
    "#Total No. of crimes occurred in every district(Bar Plot)  \n",
    "\n",
    "plt.figure(figsize=(16,8))\n",
    "df['DISTRICT'].value_counts().plot.bar()\n",
    "plt.show()\n"
   ]
  },
  {
   "cell_type": "code",
   "execution_count": null,
   "id": "3d0e82eb",
   "metadata": {},
   "outputs": [],
   "source": [
    "# Total No. of crimes occurred in all districts in four years(2015-2018) Bar Plot\n",
    "\n",
    "\n",
    "# 2015\n",
    "plt.figure(figsize=(8,4))\n",
    "df['DISTRICT'].loc[df['YEAR']==2015].value_counts().plot.bar()\n",
    "plt.show()\n",
    "\n",
    "# 2016\n",
    "plt.figure(figsize=(8,4))\n",
    "df['DISTRICT'].loc[df['YEAR']==2016].value_counts().plot.bar()\n",
    "plt.show()\n",
    "\n",
    "# 2017\n",
    "plt.figure(figsize=(8,4))\n",
    "df['DISTRICT'].loc[df['YEAR']==2017].value_counts().plot.bar()\n",
    "plt.show()\n",
    "\n",
    "# 2018\n",
    "plt.figure(figsize=(8,4))\n",
    "df['DISTRICT'].loc[df['YEAR']==2018].value_counts().plot.bar()\n",
    "plt.show()"
   ]
  },
  {
   "cell_type": "code",
   "execution_count": null,
   "id": "d8d156b5",
   "metadata": {},
   "outputs": [],
   "source": [
    "i = 1\n",
    "\n",
    "while i < 13:\n",
    "    print('== ' + str(i) + ' ==')\n",
    "    print(df['DISTRICT'].loc[df['MONTH']==i].value_counts())\n",
    "    i +=1\n"
   ]
  },
  {
   "cell_type": "code",
   "execution_count": null,
   "id": "b713a807",
   "metadata": {},
   "outputs": [],
   "source": [
    "# Total no. of Crimes in percentage in four years(2015-2018) Pie Chart\n",
    "\n",
    "\n",
    "list_unique_year, list_number_year = create_list_number_crime('YEAR',df['YEAR'].unique())"
   ]
  },
  {
   "cell_type": "code",
   "execution_count": null,
   "id": "a9654af8",
   "metadata": {},
   "outputs": [],
   "source": [
    "pie_plot(list_unique_year, list_number_year)\n",
    "\n"
   ]
  },
  {
   "cell_type": "code",
   "execution_count": null,
   "id": "b694f9c5",
   "metadata": {},
   "outputs": [],
   "source": [
    "# Total No. of crimes occurred in four years(2015-2018) Bar Chart\n",
    "\n",
    "\n",
    "bar_chart(list_number_year,list_unique_year)"
   ]
  },
  {
   "cell_type": "code",
   "execution_count": null,
   "id": "ab6274ff",
   "metadata": {},
   "outputs": [],
   "source": [
    "list_unique_month, list_number_month = create_list_number_crime('MONTH',list(range(1,13)))\n"
   ]
  },
  {
   "cell_type": "code",
   "execution_count": null,
   "id": "5bf3c166",
   "metadata": {},
   "outputs": [],
   "source": [
    "# pie_plot(list_unique_month,list_number_month)\n"
   ]
  },
  {
   "cell_type": "code",
   "execution_count": null,
   "id": "07f539e8",
   "metadata": {},
   "outputs": [],
   "source": [
    "# Total No. of crimes occurred in every month of a year(Bar Chart)\n",
    "\n",
    "\n",
    "bar_chart(list_number_month,list_unique_month)\n"
   ]
  },
  {
   "cell_type": "code",
   "execution_count": null,
   "id": "12c421e4",
   "metadata": {},
   "outputs": [],
   "source": [
    "day_of_week = ('Monday', 'Tuesday', 'Wednesday', 'Thursday', 'Friday', 'Saturday', 'Sunday')"
   ]
  },
  {
   "cell_type": "code",
   "execution_count": null,
   "id": "875968cd",
   "metadata": {},
   "outputs": [],
   "source": [
    "list_unique_day, list_number_day = create_list_number_crime('DAY_OF_WEEK',day_of_week)\n"
   ]
  },
  {
   "cell_type": "code",
   "execution_count": null,
   "id": "f481e4ce",
   "metadata": {},
   "outputs": [],
   "source": [
    "#pie_plot(list_unique_day,list_number_day)"
   ]
  },
  {
   "cell_type": "code",
   "execution_count": null,
   "id": "4518cf51",
   "metadata": {},
   "outputs": [],
   "source": [
    "# Total No. of crimes occurred in every day of a month(Bar Chart)\n",
    "  \n",
    "\n",
    "\n",
    "bar_chart(list_number_day,list_unique_day)\n"
   ]
  },
  {
   "cell_type": "code",
   "execution_count": null,
   "id": "fb1d1de0",
   "metadata": {},
   "outputs": [],
   "source": [
    "list_unique_hour, list_number_hour = create_list_number_crime('HOUR',list(range(0,24)))"
   ]
  },
  {
   "cell_type": "code",
   "execution_count": null,
   "id": "51c2cc1b",
   "metadata": {},
   "outputs": [],
   "source": [
    "# pie_plot(list_unique_hour, list_number_hour)\n"
   ]
  },
  {
   "cell_type": "code",
   "execution_count": null,
   "id": "7395873b",
   "metadata": {},
   "outputs": [],
   "source": [
    "# Total No. of crimes occurred in every hour of a day(Bar Chart)\n",
    "\n",
    "\n",
    "bar_chart(list_number_hour,list_unique_hour)\n"
   ]
  },
  {
   "cell_type": "code",
   "execution_count": null,
   "id": "88a0514b",
   "metadata": {},
   "outputs": [],
   "source": [
    "df['SHOOTING'].fillna(0, inplace = True)\n",
    "\n",
    "df['SHOOTING'] = df['SHOOTING'].map({\n",
    "    0: 0,\n",
    "    'Y':1\n",
    "})"
   ]
  },
  {
   "cell_type": "code",
   "execution_count": null,
   "id": "641a0956",
   "metadata": {},
   "outputs": [],
   "source": [
    "shoot_true = len(df.loc[df['SHOOTING'] == 1])\n",
    "shoot_false = len(df.loc[df['SHOOTING'] == 0])\n"
   ]
  },
  {
   "cell_type": "code",
   "execution_count": null,
   "id": "d538005d",
   "metadata": {},
   "outputs": [],
   "source": [
    "print('With shooting(num): ' + str(shoot_true))\n",
    "print('With shooting(%):   ' + str(round(shoot_true*100/len(df),2))+'%')\n",
    "print()\n",
    "print('Without shooting(num): ' + str(shoot_false))\n",
    "print('Without shooting(%):   ' + str(round(shoot_false*100/len(df),2))+'%')"
   ]
  },
  {
   "cell_type": "code",
   "execution_count": null,
   "id": "0ec1f6dc",
   "metadata": {},
   "outputs": [],
   "source": [
    "df_shoot = df.loc[df['SHOOTING'] == 1]\n",
    "df_shoot.shape"
   ]
  },
  {
   "cell_type": "code",
   "execution_count": null,
   "id": "03022c2c",
   "metadata": {},
   "outputs": [],
   "source": [
    "shoot_y_2015 = len(df_shoot.loc[df_shoot['YEAR'] == 2015])\n",
    "shoot_y_2016 = len(df_shoot.loc[df_shoot['YEAR'] == 2016])\n",
    "shoot_y_2017 = len(df_shoot.loc[df_shoot['YEAR'] == 2017])\n",
    "shoot_y_2018 = len(df_shoot.loc[df_shoot['YEAR'] == 2018])\n",
    "\n",
    "unique_shoot_year = '2015', '2016', '2017', '2018'\n",
    "number_shoot_year = [shoot_y_2015, shoot_y_2016, shoot_y_2017, shoot_y_2018]"
   ]
  },
  {
   "cell_type": "code",
   "execution_count": null,
   "id": "dc51dfdc",
   "metadata": {},
   "outputs": [],
   "source": [
    "# pie_plot(unique_shoot_year,number_shoot_year)"
   ]
  },
  {
   "cell_type": "code",
   "execution_count": null,
   "id": "43c86857",
   "metadata": {},
   "outputs": [],
   "source": [
    "# Total No. of shooting incidents happened and reported in four years(2015-2018) Bar Chart\n",
    " \n",
    "\n",
    "\n",
    "\n",
    "bar_chart(number_shoot_year,unique_shoot_year)\n"
   ]
  },
  {
   "cell_type": "code",
   "execution_count": null,
   "id": "2d321971",
   "metadata": {},
   "outputs": [],
   "source": [
    "i = 1\n",
    "list_month = list()\n",
    "\n",
    "while i <= 12:\n",
    "    list_month.append(len(df_shoot.loc[df_shoot['MONTH'] == i]))\n",
    "    i+=1"
   ]
  },
  {
   "cell_type": "code",
   "execution_count": null,
   "id": "f10e7f82",
   "metadata": {},
   "outputs": [],
   "source": [
    "# pie_plot(list(range(1,13)), list_month)\n"
   ]
  },
  {
   "cell_type": "code",
   "execution_count": null,
   "id": "8202b3f0",
   "metadata": {},
   "outputs": [],
   "source": [
    "# Total No. of shooting incidents happened and reported in every month of a year(Bar Chart)\n",
    "\n",
    "\n",
    "\n",
    "bar_chart(list_month,list(range(1,13)))"
   ]
  },
  {
   "cell_type": "code",
   "execution_count": null,
   "id": "9a20c312",
   "metadata": {},
   "outputs": [],
   "source": [
    "day_of_week = ('Monday', 'Tuesday', 'Wednesday', 'Thursday', 'Friday', 'Saturday', 'Sunday')\n",
    "\n",
    "i = 0\n",
    "day_number = list()\n",
    "\n",
    "while i < 7:\n",
    "    day_number.append(len(df_shoot.loc[df_shoot['DAY_OF_WEEK'] == day_of_week[i]]))\n",
    "    \n",
    "    i +=1"
   ]
  },
  {
   "cell_type": "code",
   "execution_count": null,
   "id": "1a0c94be",
   "metadata": {},
   "outputs": [],
   "source": [
    "# pie_plot(day_of_week, day_number)\n"
   ]
  },
  {
   "cell_type": "code",
   "execution_count": null,
   "id": "de39fae9",
   "metadata": {},
   "outputs": [],
   "source": [
    "# Total No. of shooting incidents happened and reported in every day of a week in a month(Bar Chart)\n",
    "\n",
    "\n",
    "\n",
    "\n",
    "bar_chart(day_number,day_of_week)\n"
   ]
  },
  {
   "cell_type": "code",
   "execution_count": null,
   "id": "6fd0dc08",
   "metadata": {},
   "outputs": [],
   "source": [
    "i = 0\n",
    "hour_number = list()\n",
    "\n",
    "while i < 24:\n",
    "    hour_number.append(len(df_shoot.loc[df_shoot['HOUR'] == i]))\n",
    "    i +=1"
   ]
  },
  {
   "cell_type": "code",
   "execution_count": null,
   "id": "9b808fd5",
   "metadata": {},
   "outputs": [],
   "source": [
    "# pie_plot(list(range(0,24)), hour_number)"
   ]
  },
  {
   "cell_type": "code",
   "execution_count": null,
   "id": "54d18cb9",
   "metadata": {},
   "outputs": [],
   "source": [
    "\n",
    "# Total No. of shooting incidents happened and reported in every hour of a day(Bar Chart)\n",
    "\n",
    "\n",
    "\n",
    "\n",
    "bar_chart(hour_number,list(range(0,24)))"
   ]
  },
  {
   "cell_type": "code",
   "execution_count": null,
   "id": "5a752a12",
   "metadata": {},
   "outputs": [],
   "source": [
    "# Total No. of shooting incidents reported or occurred in each district(Bar Plot)\n",
    "\n",
    "plt.figure(figsize=(20,10))\n",
    "df_shoot['DISTRICT'].value_counts().plot.bar()\n",
    "plt.show()"
   ]
  },
  {
   "cell_type": "code",
   "execution_count": null,
   "id": "3fb77e52",
   "metadata": {},
   "outputs": [],
   "source": [
    "# 1. Marked locations of shooting incidents in the city through latitude and longitude using Scatterplot.\n",
    "# 2. Marginal Distributions and locations of shooting incidents in the city through Latitude & Longitude Using Hex Plot\n",
    "# 3. Distribution of the Marked locations under the plotted curve through latitude & longitude Using Kde Plot\n",
    "\n",
    "\n",
    "\n",
    "location_shoot = df_shoot[['Lat','Long']]\n",
    "location_shoot = location_shoot.dropna()\n",
    "\n",
    "location_shoot = location_shoot.loc[(location_shoot['Lat']>40) & (location_shoot['Long'] < -60)]  \n",
    "\n",
    "x_shoot = location_shoot['Long']\n",
    "y_shoot = location_shoot['Lat']\n",
    "\n",
    "# Custom the inside plot: options are: “scatter” | “reg” | “resid” | “kde” | “hex”\n",
    "sns.jointplot(x_shoot, y_shoot, kind='scatter')\n",
    "sns.jointplot(x_shoot, y_shoot, kind='hex')\n",
    "sns.jointplot(x_shoot, y_shoot, kind='kde')"
   ]
  },
  {
   "cell_type": "code",
   "execution_count": null,
   "id": "fabedac1",
   "metadata": {},
   "outputs": [],
   "source": [
    "# Figure name:\n",
    "# Total No. of crimes falling under each UCR(Uniform Crime Reporting) category part 1,part 2,part 3\n",
    "# Information:\n",
    "#  Basically UCR Part 1 Crimes are murder, manslaughter, sex offenses, robbery, aggravated assault, burglary, motor vehicle theft, and arson.\n",
    "# UCR Part 2 Crimes are  Simple Assaults, Forgery/Counterfeiting, Embezzlement/Fraud, Receiving Stolen Property, Weapon Violations, Prostitution, Sex Crimes, Crimes Against Family/Child, Narcotic Drug Laws, Liquor Laws, Drunkenness, Disturbing the Peace, Disorderly Conduct, Gambling.\n",
    "# UCR Part 3 Crimes are larceny-theft, simple assault, intimidation, destruction of or vandalism of a buildings or property.\n",
    "plt.figure(figsize=(20,10))\n",
    "df['UCR_PART'].value_counts().plot.bar()\n",
    "plt.show()"
   ]
  },
  {
   "cell_type": "code",
   "execution_count": null,
   "id": "167dbd45",
   "metadata": {},
   "outputs": [],
   "source": [
    "df[['Lat','Long']].describe()"
   ]
  },
  {
   "cell_type": "code",
   "execution_count": null,
   "id": "c7a2ef9b",
   "metadata": {},
   "outputs": [],
   "source": [
    "location = df[['Lat','Long']]\n",
    "location = location.dropna()\n",
    "\n",
    "location = location.loc[(location['Lat']>40) & (location['Long'] < -60)] "
   ]
  },
  {
   "cell_type": "code",
   "execution_count": null,
   "id": "c7af6fb6",
   "metadata": {},
   "outputs": [],
   "source": [
    "# Plotting glimpse of a map of the city with crime markers through longitude & latitude by using scatterplot\n",
    "\n",
    "\n",
    "x = location['Long']\n",
    "y = location['Lat']\n",
    "\n",
    "\n",
    "colors = np.random.rand(len(x))\n",
    "\n",
    "plt.figure(figsize=(20,20))\n",
    "plt.scatter(x, y,c=colors, alpha=0.5)\n",
    "plt.show()"
   ]
  },
  {
   "cell_type": "code",
   "execution_count": null,
   "id": "4d0cef30",
   "metadata": {},
   "outputs": [],
   "source": [
    "!pip install folium"
   ]
  },
  {
   "cell_type": "code",
   "execution_count": null,
   "id": "efc011ee",
   "metadata": {},
   "outputs": [],
   "source": [
    "import folium\n",
    "\n"
   ]
  },
  {
   "cell_type": "code",
   "execution_count": null,
   "id": "0552b172",
   "metadata": {},
   "outputs": [],
   "source": [
    "from folium import plugins"
   ]
  },
  {
   "cell_type": "code",
   "execution_count": null,
   "id": "858cc8fd",
   "metadata": {
    "scrolled": false
   },
   "outputs": [],
   "source": [
    "# Drawing Complete map of city Boston using Folium\n",
    "\n",
    "\n",
    "m = folium.Map([42.348624, -71.062492], zoom_start=14)\n",
    "m"
   ]
  },
  {
   "cell_type": "code",
   "execution_count": null,
   "id": "1cced23b",
   "metadata": {},
   "outputs": [],
   "source": [
    "locations = df.groupby('REPORTING_AREA').first()"
   ]
  },
  {
   "cell_type": "code",
   "execution_count": null,
   "id": "2ae0e020",
   "metadata": {},
   "outputs": [],
   "source": [
    "# INFORMATION:\n",
    "# As the most varying column of this dataset is the reporting area of this data.\n",
    "# So, Let's draw maps using folium of every data set with reporting area keeping location description in the picture which is lat & long."
   ]
  },
  {
   "cell_type": "code",
   "execution_count": null,
   "id": "8cbae177",
   "metadata": {},
   "outputs": [],
   "source": [
    "new_locations = locations.loc[:, ['Lat', 'Long', 'Location', 'SHOOTING']]"
   ]
  },
  {
   "cell_type": "code",
   "execution_count": null,
   "id": "2037cbc6",
   "metadata": {},
   "outputs": [],
   "source": [
    "import requests"
   ]
  },
  {
   "cell_type": "code",
   "execution_count": null,
   "id": "7a441305",
   "metadata": {},
   "outputs": [],
   "source": [
    "#Figure name:\n",
    "# Drawing map with markers of total shooting incidents in the city at a particular Reporting Area with Lat & Long Using Folium. \n",
    "\n",
    "for i in range(len(new_locations)):\n",
    "    lat = new_locations.iloc[i][0]\n",
    "    long = new_locations.iloc[i][1]\n",
    "    popup_text = \"\"\"Reporting Area : {}<br>\n",
    "                Shooting : {}<br>\n",
    "                Location Description : {}<br>\"\"\"\n",
    "    popup_text = popup_text.format(new_locations.index[i],\n",
    "                               new_locations.iloc[i][-1],\n",
    "                               new_locations.iloc[i][-2]\n",
    "                               )\n",
    "    folium.CircleMarker(location = [lat, long], popup= popup_text, fill = True).add_to(m)\n",
    "m"
   ]
  },
  {
   "cell_type": "code",
   "execution_count": null,
   "id": "40bb3166",
   "metadata": {},
   "outputs": [],
   "source": [
    "new_locations = locations.loc[:, ['Lat', 'Long', 'Location', 'OFFENSE_CODE']]"
   ]
  },
  {
   "cell_type": "code",
   "execution_count": null,
   "id": "9b8307b1",
   "metadata": {},
   "outputs": [],
   "source": [
    "#Figure name:\n",
    "# Drawing map with markers of every offense code no. of a crime at a particular Reporting Area with Lat & Long Using Folium. \n",
    "\n",
    "\n",
    "for i in range(len(new_locations)):\n",
    "    lat = new_locations.iloc[i][0]\n",
    "    long = new_locations.iloc[i][1]\n",
    "    popup_text = \"\"\"Reporting Area : {}<br>\n",
    "                Offense Code : {}<br>\n",
    "                Location Description : {}<br>\"\"\"\n",
    "    popup_text = popup_text.format(new_locations.index[i],\n",
    "                               new_locations.iloc[i][-1],\n",
    "                               new_locations.iloc[i][-2]\n",
    "                               )\n",
    "    folium.CircleMarker(location = [lat, long], popup= popup_text, fill = True).add_to(m)\n",
    "m"
   ]
  },
  {
   "cell_type": "code",
   "execution_count": null,
   "id": "fe60ecfe",
   "metadata": {},
   "outputs": [],
   "source": [
    "new_locations = locations.loc[:, ['Lat', 'Long', 'Location', 'OFFENSE_CODE_GROUP']]"
   ]
  },
  {
   "cell_type": "code",
   "execution_count": null,
   "id": "edcbc7a1",
   "metadata": {},
   "outputs": [],
   "source": [
    "#Figure name:\n",
    "# Drawing map with markers of every group of a crime at a particular Reporting Area with Lat & Long Using Folium. \n",
    "\n",
    "for i in range(len(new_locations)):\n",
    "    lat = new_locations.iloc[i][0]\n",
    "    long = new_locations.iloc[i][1]\n",
    "    popup_text = \"\"\"Reporting Area : {}<br>\n",
    "                Offense Code Group : {}<br>\n",
    "                Location Description : {}<br>\"\"\"\n",
    "    popup_text = popup_text.format(new_locations.index[i],\n",
    "                               new_locations.iloc[i][-1],\n",
    "                               new_locations.iloc[i][-2]\n",
    "                               )\n",
    "    folium.CircleMarker(location = [lat, long], popup= popup_text, fill = True).add_to(m)\n",
    "m"
   ]
  },
  {
   "cell_type": "code",
   "execution_count": null,
   "id": "5243b742",
   "metadata": {},
   "outputs": [],
   "source": [
    "new_locations = locations.loc[:, ['Lat', 'Long', 'Location', 'OFFENSE_DESCRIPTION']]"
   ]
  },
  {
   "cell_type": "code",
   "execution_count": null,
   "id": "75ee9fb5",
   "metadata": {
    "scrolled": false
   },
   "outputs": [],
   "source": [
    "#Figure name:\n",
    "# Drawing map with markers of description of a crime at a particular Reporting Area with Lat & Long Using Folium. \n",
    "\n",
    "\n",
    "for i in range(len(new_locations)):\n",
    "    lat = new_locations.iloc[i][0]\n",
    "    long = new_locations.iloc[i][1]\n",
    "    popup_text = \"\"\"Reporting Area : {}<br>\n",
    "                Offense Description : {}<br>\n",
    "                Location Description : {}<br>\"\"\"\n",
    "    popup_text = popup_text.format(new_locations.index[i],\n",
    "                               new_locations.iloc[i][-1],\n",
    "                               new_locations.iloc[i][-2]\n",
    "                               )\n",
    "    folium.CircleMarker(location = [lat, long], popup= popup_text, fill = True).add_to(m)\n",
    "m"
   ]
  },
  {
   "cell_type": "code",
   "execution_count": null,
   "id": "df1bb62a",
   "metadata": {},
   "outputs": [],
   "source": [
    "new_locations = locations.loc[:, ['Lat', 'Long', 'Location', 'UCR_PART']]"
   ]
  },
  {
   "cell_type": "code",
   "execution_count": null,
   "id": "10f8e1ca",
   "metadata": {
    "scrolled": false
   },
   "outputs": [],
   "source": [
    "#Figure name:\n",
    "# Drawing map with markers of every UCR Category of a crime at a particular Reporting Area with Lat & Long Using Folium. \n",
    "\n",
    "for i in range(len(new_locations)):\n",
    "    lat = new_locations.iloc[i][0]\n",
    "    long = new_locations.iloc[i][1]\n",
    "    popup_text = \"\"\"Reporting Area : {}<br>\n",
    "                UCR Part: {}<br>\n",
    "                Location Description : {}<br>\"\"\"\n",
    "    popup_text = popup_text.format(new_locations.index[i],\n",
    "                               new_locations.iloc[i][-1],\n",
    "                               new_locations.iloc[i][-2]\n",
    "                               )\n",
    "    folium.CircleMarker(location = [lat, long], popup= popup_text, fill = True).add_to(m)\n",
    "m"
   ]
  },
  {
   "cell_type": "code",
   "execution_count": null,
   "id": "853ba1c7",
   "metadata": {},
   "outputs": [],
   "source": [
    "new_locations = locations.loc[:, ['Lat', 'Long', 'Location', 'DISTRICT']]"
   ]
  },
  {
   "cell_type": "code",
   "execution_count": null,
   "id": "c48ad2e2",
   "metadata": {},
   "outputs": [],
   "source": [
    "#Figure name:\n",
    "# Drawing map with markers of crimes in every district as well as reporting area with Lat & Long Using Folium. \n",
    "\n",
    "\n",
    "for i in range(len(new_locations)):\n",
    "    lat = new_locations.iloc[i][0]\n",
    "    long = new_locations.iloc[i][1]\n",
    "    popup_text = \"\"\"Reporting Area : {}<br>\n",
    "                District : {}<br>\n",
    "                Location Description : {}<br>\"\"\"\n",
    "    popup_text = popup_text.format(new_locations.index[i],\n",
    "                               new_locations.iloc[i][-1],\n",
    "                               new_locations.iloc[i][-2]\n",
    "                               )\n",
    "    folium.CircleMarker(location = [lat, long], popup= popup_text, fill = True).add_to(m)\n",
    "m"
   ]
  },
  {
   "cell_type": "code",
   "execution_count": null,
   "id": "1034a09b",
   "metadata": {},
   "outputs": [],
   "source": [
    "new_locations = locations.loc[:, ['Lat', 'Long', 'Location', 'OCCURRED_ON_DATE']]"
   ]
  },
  {
   "cell_type": "code",
   "execution_count": null,
   "id": "b0d353f6",
   "metadata": {},
   "outputs": [],
   "source": [
    "#Figure name:\n",
    "# Drawing map with markers of crimes occurred on a particular date as well as reporting area with Lat & Long Using Folium. \n",
    "\n",
    "\n",
    "for i in range(len(new_locations)):\n",
    "    lat = new_locations.iloc[i][0]\n",
    "    long = new_locations.iloc[i][1]\n",
    "    popup_text = \"\"\"Reporting Area : {}<br>\n",
    "                Date on which crime occurred : {}<br>\n",
    "                Location Description : {}<br>\"\"\"\n",
    "    popup_text = popup_text.format(new_locations.index[i],\n",
    "                               new_locations.iloc[i][-1],\n",
    "                               new_locations.iloc[i][-2]\n",
    "                               )\n",
    "    folium.CircleMarker(location = [lat, long], popup= popup_text, fill = True).add_to(m)\n",
    "m"
   ]
  },
  {
   "cell_type": "code",
   "execution_count": null,
   "id": "8fb33efe",
   "metadata": {},
   "outputs": [],
   "source": [
    "new_locations = locations.loc[:, ['Lat', 'Long', 'Location', 'YEAR']]"
   ]
  },
  {
   "cell_type": "code",
   "execution_count": null,
   "id": "acb77b1f",
   "metadata": {},
   "outputs": [],
   "source": [
    "#Figure name:\n",
    "# Drawing map with markers of crimes occurred in a particular year as well as reporting area with Lat & Long Using Folium. \n",
    "\n",
    "\n",
    "\n",
    "for i in range(len(new_locations)):\n",
    "    lat = new_locations.iloc[i][0]\n",
    "    long = new_locations.iloc[i][1]\n",
    "    popup_text = \"\"\"Reporting Area : {}<br>\n",
    "                Year : {}<br>\n",
    "                Location Description : {}<br>\"\"\"\n",
    "    popup_text = popup_text.format(new_locations.index[i],\n",
    "                               new_locations.iloc[i][-1],\n",
    "                               new_locations.iloc[i][-2]\n",
    "                               )\n",
    "    folium.CircleMarker(location = [lat, long], popup= popup_text, fill = True).add_to(m)\n",
    "m"
   ]
  },
  {
   "cell_type": "code",
   "execution_count": null,
   "id": "9dea0ff2",
   "metadata": {},
   "outputs": [],
   "source": [
    "new_locations = locations.loc[:, ['Lat', 'Long', 'Location', 'MONTH']]"
   ]
  },
  {
   "cell_type": "code",
   "execution_count": null,
   "id": "4d6371ff",
   "metadata": {},
   "outputs": [],
   "source": [
    "#Figure name:\n",
    "# Drawing map with markers of crimes occurred in a particular month of a year and reporting area with Lat & Long Using Folium. \n",
    "\n",
    "\n",
    "\n",
    "for i in range(len(new_locations)):\n",
    "    lat = new_locations.iloc[i][0]\n",
    "    long = new_locations.iloc[i][1]\n",
    "    popup_text = \"\"\"Reporting Area : {}<br>\n",
    "                Month : {}<br>\n",
    "                Location Description : {}<br>\"\"\"\n",
    "    popup_text = popup_text.format(new_locations.index[i],\n",
    "                               new_locations.iloc[i][-1],\n",
    "                               new_locations.iloc[i][-2]\n",
    "                               )\n",
    "    folium.CircleMarker(location = [lat, long], popup= popup_text, fill = True).add_to(m)\n",
    "m"
   ]
  },
  {
   "cell_type": "code",
   "execution_count": null,
   "id": "3f99f0f4",
   "metadata": {},
   "outputs": [],
   "source": [
    "new_locations = locations.loc[:, ['Lat', 'Long', 'Location', 'DAY_OF_WEEK']]"
   ]
  },
  {
   "cell_type": "code",
   "execution_count": null,
   "id": "943e8bac",
   "metadata": {},
   "outputs": [],
   "source": [
    "#Figure name:\n",
    "# Drawing map with markers of crimes occurred in a particular day of a week and reporting area with Lat & Long Using Folium. \n",
    "\n",
    "\n",
    "\n",
    "\n",
    "\n",
    "for i in range(len(new_locations)):\n",
    "    lat = new_locations.iloc[i][0]\n",
    "    long = new_locations.iloc[i][1]\n",
    "    popup_text = \"\"\"Reporting Area : {}<br>\n",
    "                Day of the week : {}<br>\n",
    "                Location Description : {}<br>\"\"\"\n",
    "    popup_text = popup_text.format(new_locations.index[i],\n",
    "                               new_locations.iloc[i][-1],\n",
    "                               new_locations.iloc[i][-2]\n",
    "                               )\n",
    "    folium.CircleMarker(location = [lat, long], popup= popup_text, fill = True).add_to(m)\n",
    "m"
   ]
  },
  {
   "cell_type": "code",
   "execution_count": null,
   "id": "d280aab2",
   "metadata": {},
   "outputs": [],
   "source": [
    "new_locations = locations.loc[:, ['Lat', 'Long', 'Location', 'HOUR']]"
   ]
  },
  {
   "cell_type": "code",
   "execution_count": null,
   "id": "d4974d98",
   "metadata": {},
   "outputs": [],
   "source": [
    "#Figure name:\n",
    "# Drawing map with markers of crimes occurred in an particular hour of a day and reporting area with Lat & Long Using Folium. \n",
    "\n",
    "\n",
    "\n",
    "\n",
    "for i in range(len(new_locations)):\n",
    "    lat = new_locations.iloc[i][0]\n",
    "    long = new_locations.iloc[i][1]\n",
    "    popup_text = \"\"\"Reporting Area : {}<br>\n",
    "                Hour : {}<br>\n",
    "                Location Description : {}<br>\"\"\"\n",
    "    popup_text = popup_text.format(new_locations.index[i],\n",
    "                               new_locations.iloc[i][-1],\n",
    "                               new_locations.iloc[i][-2]\n",
    "                               )\n",
    "    folium.CircleMarker(location = [lat, long], popup= popup_text, fill = True).add_to(m)\n",
    "m"
   ]
  },
  {
   "cell_type": "code",
   "execution_count": null,
   "id": "1e63eaba",
   "metadata": {},
   "outputs": [],
   "source": [
    "new_locations = locations.loc[:, ['Lat', 'Long', 'Location', 'STREET']]"
   ]
  },
  {
   "cell_type": "code",
   "execution_count": null,
   "id": "ceb6cc1f",
   "metadata": {},
   "outputs": [],
   "source": [
    "#Figure name:\n",
    "# Drawing map with markers of crimes occurred at a particular street of an reporting area with Lat & Long Using Folium. \n",
    "\n",
    "\n",
    "\n",
    "for i in range(len(new_locations)):\n",
    "    lat = new_locations.iloc[i][0]\n",
    "    long = new_locations.iloc[i][1]\n",
    "    popup_text = \"\"\"Reporting Area : {}<br>\n",
    "                Street : {}<br>\n",
    "                Location Description : {}<br>\"\"\"\n",
    "    popup_text = popup_text.format(new_locations.index[i],\n",
    "                               new_locations.iloc[i][-1],\n",
    "                               new_locations.iloc[i][-2]\n",
    "                               )\n",
    "    folium.CircleMarker(location = [lat, long], popup= popup_text, fill = True).add_to(m)\n",
    "m"
   ]
  },
  {
   "cell_type": "code",
   "execution_count": null,
   "id": "d73b7cb1",
   "metadata": {},
   "outputs": [],
   "source": [
    "new_locations = locations.loc[:, ['Lat', 'Long', 'Location', 'Day']]"
   ]
  },
  {
   "cell_type": "code",
   "execution_count": null,
   "id": "74baa538",
   "metadata": {},
   "outputs": [],
   "source": [
    "#Figure name:\n",
    "# Drawing map with markers of crimes occurred in the day time of a prticular reporting area with Lat & Long Using Folium. \n",
    "\n",
    "\n",
    "for i in range(len(new_locations)):\n",
    "    lat = new_locations.iloc[i][0]\n",
    "    long = new_locations.iloc[i][1]\n",
    "    popup_text = \"\"\"Reporting Area : {}<br>\n",
    "                Day : {}<br>\n",
    "                Location Description : {}<br>\"\"\"\n",
    "    popup_text = popup_text.format(new_locations.index[i],\n",
    "                               new_locations.iloc[i][-1],\n",
    "                               new_locations.iloc[i][-2]\n",
    "                               )\n",
    "    folium.CircleMarker(location = [lat, long], popup= popup_text, fill = True).add_to(m)\n",
    "m"
   ]
  },
  {
   "cell_type": "code",
   "execution_count": null,
   "id": "1aea02f4",
   "metadata": {},
   "outputs": [],
   "source": [
    "new_locations = locations.loc[:, ['Lat', 'Long', 'Location', 'Night']]"
   ]
  },
  {
   "cell_type": "code",
   "execution_count": null,
   "id": "3c4fa32b",
   "metadata": {},
   "outputs": [],
   "source": [
    "#Figure name:\n",
    "# Drawing map with markers of crimes occurred in the night time of a prticular reporting area with Lat & Long Using Folium.\n",
    "\n",
    "for i in range(len(new_locations)):\n",
    "    lat = new_locations.iloc[i][0]\n",
    "    long = new_locations.iloc[i][1]\n",
    "    popup_text = \"\"\"Reporting Area : {}<br>\n",
    "                Night : {}<br>\n",
    "                Location Description : {}<br>\"\"\"\n",
    "    popup_text = popup_text.format(new_locations.index[i],\n",
    "                               new_locations.iloc[i][-1],\n",
    "                               new_locations.iloc[i][-2]\n",
    "                               )\n",
    "    folium.CircleMarker(location = [lat, long], popup= popup_text, fill = True).add_to(m)\n",
    "m"
   ]
  },
  {
   "cell_type": "code",
   "execution_count": null,
   "id": "f0af1c23",
   "metadata": {},
   "outputs": [],
   "source": [
    "# DATA MODELLING & PREDICTION"
   ]
  },
  {
   "cell_type": "code",
   "execution_count": null,
   "id": "7ec77a03",
   "metadata": {},
   "outputs": [],
   "source": [
    "df['Day'] = 0\n"
   ]
  },
  {
   "cell_type": "code",
   "execution_count": null,
   "id": "1dda7ba5",
   "metadata": {},
   "outputs": [],
   "source": [
    "df['Night'] = 0\n"
   ]
  },
  {
   "cell_type": "code",
   "execution_count": null,
   "id": "67168be8",
   "metadata": {},
   "outputs": [],
   "source": [
    "# Day or night for 1st month\n",
    "df['Day'].loc[(df['MONTH'] == 1) & (df['HOUR'] >= 6) & (df['HOUR'] <= 18)] = 1\n",
    "\n",
    "# Day or night for 2st month\n",
    "df['Day'].loc[(df['MONTH'] == 2) & (df['HOUR'] >= 6) & (df['HOUR'] <= 19)] = 1\n",
    "\n",
    "# for 3st month\n",
    "df['Day'].loc[(df['MONTH'] == 3) & (df['HOUR'] >= 6) & (df['HOUR'] <= 20)] = 1\n",
    "\n",
    "# Day or night for 4st month\n",
    "df['Day'].loc[(df['MONTH'] == 4) & (df['HOUR'] >= 5) & (df['HOUR'] <= 20)] = 1\n",
    "\n",
    "# Day or night for 5st month\n",
    "df['Day'].loc[(df['MONTH'] == 5) & (df['HOUR'] >= 5) & (df['HOUR'] <= 21)] = 1\n",
    "\n",
    "# Day or night for 6st month\n",
    "df['Day'].loc[(df['MONTH'] == 6) & (df['HOUR'] >= 4) & (df['HOUR'] <= 21)] = 1\n",
    "\n",
    "# Day or night for 7st month\n",
    "df['Day'].loc[(df['MONTH'] == 7) & (df['HOUR'] >= 5) & (df['HOUR'] <= 21)] = 1\n",
    "\n",
    "# Day or night for 8st month\n",
    "df['Day'].loc[(df['MONTH'] == 8) & (df['HOUR'] >= 5) & (df['HOUR'] <= 21)] = 1\n",
    "\n",
    "# Day or night for 9st month\n",
    "df['Day'].loc[(df['MONTH'] == 9) & (df['HOUR'] >= 6) & (df['HOUR'] <= 20)] = 1\n",
    "\n",
    "# Day or night for 10st month\n",
    "df['Day'].loc[(df['MONTH'] == 10) & (df['HOUR'] >= 6) & (df['HOUR'] <= 19)] = 1\n",
    "\n",
    "# Day or night for 11st month\n",
    "df['Day'].loc[(df['MONTH'] == 11) & (df['HOUR'] >= 6) & (df['HOUR'] <= 17)] = 1\n",
    "\n",
    "# Day or night for 12st month\n",
    "df['Day'].loc[(df['MONTH'] == 12) & (df['HOUR'] >= 7) & (df['HOUR'] <= 17)] = 1"
   ]
  },
  {
   "cell_type": "code",
   "execution_count": null,
   "id": "fdbda19c",
   "metadata": {},
   "outputs": [],
   "source": [
    "df['Night'].loc[df['Day']==0]=1\n"
   ]
  },
  {
   "cell_type": "code",
   "execution_count": null,
   "id": "eaa89b08",
   "metadata": {},
   "outputs": [],
   "source": [
    "# After Creating two new variables for further use in prediction\n",
    "# FIGURE NAME:\n",
    "# Total No. of crime incidents occured in Day means '0' and Night means '1' (Bar Plot)\n",
    "\n",
    "\n",
    "plt.figure(figsize=(16,8))\n",
    "df['Night'].value_counts().plot.bar()\n",
    "plt.show()"
   ]
  },
  {
   "cell_type": "code",
   "execution_count": null,
   "id": "08060ed1",
   "metadata": {},
   "outputs": [],
   "source": [
    "df['OFFENSE_CODE_GROUP'].value_counts().head(15)"
   ]
  },
  {
   "cell_type": "code",
   "execution_count": null,
   "id": "b93829b7",
   "metadata": {},
   "outputs": [],
   "source": [
    "list_offense_code_group = ('Motor Vehicle Accident Response',\n",
    "                           'Larceny',\n",
    "                           'Medical Assistance',\n",
    "                           'Investigate Person',\n",
    "                           'Other',\n",
    "                           'Drug Violation',\n",
    "                           'Simple Assault',\n",
    "                           'Vandalism',\n",
    "                           'Verbal Disputes',\n",
    "                           'Towed',\n",
    "                           'Investigate Property',\n",
    "                           'Larceny From Motor Vehicle')"
   ]
  },
  {
   "cell_type": "code",
   "execution_count": null,
   "id": "546caa59",
   "metadata": {},
   "outputs": [],
   "source": [
    "df_model = pd.DataFrame()\n"
   ]
  },
  {
   "cell_type": "code",
   "execution_count": null,
   "id": "7b3abebd",
   "metadata": {},
   "outputs": [],
   "source": [
    "i = 0\n",
    "\n",
    "while i < len(list_offense_code_group):\n",
    "\n",
    "    df_model = df_model.append(df.loc[df['OFFENSE_CODE_GROUP'] == list_offense_code_group[i]])\n",
    "    \n",
    "    i+=1"
   ]
  },
  {
   "cell_type": "code",
   "execution_count": null,
   "id": "e81da4f6",
   "metadata": {},
   "outputs": [],
   "source": [
    "list_column = ['DISTRICT','REPORTING_AREA','MONTH','DAY_OF_WEEK',\n",
    "               'HOUR','Lat','Long', 'OFFENSE_CODE_GROUP','Day','Night']"
   ]
  },
  {
   "cell_type": "code",
   "execution_count": null,
   "id": "4d040334",
   "metadata": {},
   "outputs": [],
   "source": [
    "df_model = df_model[list_column]\n"
   ]
  },
  {
   "cell_type": "code",
   "execution_count": null,
   "id": "ab2e5041",
   "metadata": {},
   "outputs": [],
   "source": [
    "# DISTRICT\n",
    "\n",
    "df_model['DISTRICT'] = df_model['DISTRICT'].map({\n",
    "    'B3':1, \n",
    "    'E18':2, \n",
    "    'B2':3, \n",
    "    'E5':4, \n",
    "    'C6':5, \n",
    "    'D14':6, \n",
    "    'E13':7, \n",
    "    'C11':8, \n",
    "    'D4':9, \n",
    "    'A7':10, \n",
    "    'A1':11, \n",
    "    'A15':12\n",
    "})\n",
    "\n",
    "df_model['DISTRICT'].unique()\n"
   ]
  },
  {
   "cell_type": "code",
   "execution_count": null,
   "id": "7e99b830",
   "metadata": {},
   "outputs": [],
   "source": [
    "# REPORTING_AREA\n",
    "\n",
    "df_model['REPORTING_AREA'] = pd.to_numeric(df_model['REPORTING_AREA'], errors='coerce')"
   ]
  },
  {
   "cell_type": "code",
   "execution_count": null,
   "id": "c0a0b36d",
   "metadata": {},
   "outputs": [],
   "source": [
    "# MONTH\n",
    "\n",
    "df_model['MONTH'].unique()"
   ]
  },
  {
   "cell_type": "code",
   "execution_count": null,
   "id": "2d1a9328",
   "metadata": {},
   "outputs": [],
   "source": [
    "# DAY_OF_WEEK\n",
    "\n",
    "df_model['DAY_OF_WEEK'] = df_model['DAY_OF_WEEK'].map({\n",
    "    'Tuesday':2, \n",
    "    'Saturday':6, \n",
    "    'Monday':1, \n",
    "    'Sunday':7, \n",
    "    'Thursday':4, \n",
    "    'Wednesday':3,\n",
    "    'Friday':5\n",
    "})\n",
    "\n",
    "df_model['DAY_OF_WEEK'].unique()"
   ]
  },
  {
   "cell_type": "code",
   "execution_count": null,
   "id": "584af414",
   "metadata": {},
   "outputs": [],
   "source": [
    "# HOUR\n",
    "\n",
    "df_model['HOUR'].unique()"
   ]
  },
  {
   "cell_type": "code",
   "execution_count": null,
   "id": "a53377a9",
   "metadata": {},
   "outputs": [],
   "source": [
    "# Lat, Long\n",
    "\n",
    "df_model[['Lat', 'Long']].head()\n"
   ]
  },
  {
   "cell_type": "code",
   "execution_count": null,
   "id": "997b76f6",
   "metadata": {},
   "outputs": [],
   "source": [
    "df_model.fillna(0, inplace = True)\n"
   ]
  },
  {
   "cell_type": "code",
   "execution_count": null,
   "id": "66189a3b",
   "metadata": {},
   "outputs": [],
   "source": [
    "x = df_model[['DISTRICT','REPORTING_AREA','MONTH','DAY_OF_WEEK','HOUR','Lat','Long','Day','Night']]\n"
   ]
  },
  {
   "cell_type": "code",
   "execution_count": null,
   "id": "89eea576",
   "metadata": {},
   "outputs": [],
   "source": [
    "y = df_model['OFFENSE_CODE_GROUP']\n"
   ]
  },
  {
   "cell_type": "code",
   "execution_count": null,
   "id": "288a09ef",
   "metadata": {},
   "outputs": [],
   "source": [
    "y.unique()\n"
   ]
  },
  {
   "cell_type": "code",
   "execution_count": null,
   "id": "9e69112c",
   "metadata": {},
   "outputs": [],
   "source": [
    "y = y.map({\n",
    "    'Motor Vehicle Accident Response':1, \n",
    "    'Larceny':2, \n",
    "    'Medical Assistance':3,\n",
    "    'Investigate Person':4, \n",
    "    'Other':5, \n",
    "    'Drug Violation':6, \n",
    "    'Simple Assault':7,\n",
    "    'Vandalism':8, \n",
    "    'Verbal Disputes':9, \n",
    "    'Towed':10, \n",
    "    'Investigate Property':11,\n",
    "    'Larceny From Motor Vehicle':12\n",
    "})"
   ]
  },
  {
   "cell_type": "code",
   "execution_count": null,
   "id": "692301f5",
   "metadata": {},
   "outputs": [],
   "source": [
    "from sklearn.model_selection import train_test_split\n"
   ]
  },
  {
   "cell_type": "code",
   "execution_count": null,
   "id": "b66cfbe2",
   "metadata": {},
   "outputs": [],
   "source": [
    "# Split dataframe into random train and test subsets\n",
    "\n",
    "X_train, X_test, Y_train, Y_test = train_test_split(\n",
    "    x,\n",
    "    y, \n",
    "    test_size = 0.1,\n",
    "    random_state=42\n",
    ")\n",
    "\n",
    "print(X_train.shape, Y_train.shape)\n",
    "print(X_test.shape, Y_test.shape)"
   ]
  },
  {
   "cell_type": "code",
   "execution_count": null,
   "id": "25f3eb1a",
   "metadata": {},
   "outputs": [],
   "source": [
    "from sklearn.tree import DecisionTreeClassifier"
   ]
  },
  {
   "cell_type": "code",
   "execution_count": null,
   "id": "34dbed5c",
   "metadata": {},
   "outputs": [],
   "source": [
    "from sklearn.naive_bayes import BernoulliNB\n"
   ]
  },
  {
   "cell_type": "code",
   "execution_count": null,
   "id": "0d090d69",
   "metadata": {},
   "outputs": [],
   "source": [
    "from sklearn.tree import ExtraTreeClassifier"
   ]
  },
  {
   "cell_type": "code",
   "execution_count": null,
   "id": "c90af694",
   "metadata": {},
   "outputs": [],
   "source": [
    "from sklearn.neighbors import KNeighborsClassifier\n"
   ]
  },
  {
   "cell_type": "code",
   "execution_count": null,
   "id": "061083b5",
   "metadata": {},
   "outputs": [],
   "source": [
    "from sklearn.naive_bayes import GaussianNB\n"
   ]
  },
  {
   "cell_type": "code",
   "execution_count": null,
   "id": "9ecd445a",
   "metadata": {},
   "outputs": [],
   "source": [
    "from sklearn.discriminant_analysis import LinearDiscriminantAnalysis"
   ]
  },
  {
   "cell_type": "code",
   "execution_count": null,
   "id": "ddab9400",
   "metadata": {},
   "outputs": [],
   "source": [
    "from sklearn.ensemble import RandomForestClassifier"
   ]
  },
  {
   "cell_type": "code",
   "execution_count": null,
   "id": "5f399f97",
   "metadata": {},
   "outputs": [],
   "source": [
    "from sklearn.semi_supervised import LabelSpreading\n"
   ]
  },
  {
   "cell_type": "code",
   "execution_count": null,
   "id": "d910732a",
   "metadata": {},
   "outputs": [],
   "source": [
    "from sklearn.svm import LinearSVC\n"
   ]
  },
  {
   "cell_type": "code",
   "execution_count": null,
   "id": "cd3ce939",
   "metadata": {},
   "outputs": [],
   "source": [
    "from sklearn.cluster import KMeans"
   ]
  },
  {
   "cell_type": "code",
   "execution_count": null,
   "id": "0d08ea07",
   "metadata": {},
   "outputs": [],
   "source": [
    "from sklearn.metrics import f1_score"
   ]
  },
  {
   "cell_type": "code",
   "execution_count": null,
   "id": "2b8c005e",
   "metadata": {},
   "outputs": [],
   "source": [
    "def fun_results(result):\n",
    "    print('mean: ' + str(result.mean()))\n",
    "    print('max: ' + str(result.max()))\n",
    "    print('min: ' + str(result.min()))\n",
    "    return result"
   ]
  },
  {
   "cell_type": "code",
   "execution_count": null,
   "id": "8873a8f3",
   "metadata": {},
   "outputs": [],
   "source": [
    "# DecisionTreeClassifier\n",
    "\n",
    "def fun_DecisionTreeClassifier(X_train, Y_train):\n",
    "    dec_tree = DecisionTreeClassifier()\n",
    "    dec_tree = dec_tree.fit(X_train, Y_train)\n",
    "\n",
    "    dec_tree_pred = dec_tree.predict(X_test)\n",
    "\n",
    "    dec_tree_score = f1_score(Y_test, dec_tree_pred, average=None)\n",
    "    return fun_results(dec_tree_score)\n",
    "\n",
    "fun_DecisionTreeClassifier(X_train, Y_train)"
   ]
  },
  {
   "cell_type": "code",
   "execution_count": null,
   "id": "5e4f0f56",
   "metadata": {},
   "outputs": [],
   "source": [
    "# BernoulliNB\n",
    "\n",
    "def fun_BernoulliNB(X_train, Y_train):\n",
    "    bernoulli = BernoulliNB()\n",
    "    bernoulli = bernoulli.fit(X_train, Y_train)\n",
    "\n",
    "    bernoulli_pred = bernoulli.predict(X_test)\n",
    "\n",
    "    bernoulli_score = f1_score(Y_test, bernoulli_pred, average=None)\n",
    "    return fun_results(bernoulli_score)\n",
    "\n",
    "fun_BernoulliNB(X_train, Y_train)\n"
   ]
  },
  {
   "cell_type": "code",
   "execution_count": null,
   "id": "27df2395",
   "metadata": {},
   "outputs": [],
   "source": [
    "# ExtraTreeClassifier\n",
    "\n",
    "def fun_ExtraTreeClassifier(X_train, Y_train):\n",
    "    ext_tree = ExtraTreeClassifier()\n",
    "    ext_tree = ext_tree.fit(X_train, Y_train)\n",
    "\n",
    "    ext_tree_pred = ext_tree.predict(X_test)\n",
    "\n",
    "    ext_tree_score = f1_score(Y_test, ext_tree_pred, average=None)\n",
    "    return fun_results(ext_tree_score)\n",
    "\n",
    "fun_ExtraTreeClassifier(X_train, Y_train)\n"
   ]
  },
  {
   "cell_type": "code",
   "execution_count": null,
   "id": "865de6ee",
   "metadata": {},
   "outputs": [],
   "source": [
    "# KNeighborsClassifier\n",
    "\n",
    "def fun_KNeighborsClassifier(X_train, Y_train):\n",
    "    neigh = KNeighborsClassifier()\n",
    "    neigh.fit(X_train, Y_train) \n",
    "\n",
    "    neigh_pred = neigh.predict(X_test)\n",
    "\n",
    "    neigh_score = f1_score(Y_test, neigh_pred, average=None)\n",
    "    return fun_results(neigh_score)\n",
    "\n",
    "fun_KNeighborsClassifier(X_train, Y_train)\n"
   ]
  },
  {
   "cell_type": "code",
   "execution_count": null,
   "id": "f6f5762a",
   "metadata": {},
   "outputs": [],
   "source": [
    "# GaussianNB\n",
    "\n",
    "def fun_GaussianNB(X_train, Y_train):\n",
    "    gauss = GaussianNB()\n",
    "    gauss = gauss.fit(X_train, Y_train)\n",
    "\n",
    "    gauss_pred = gauss.predict(X_test)\n",
    "\n",
    "    gauss_score = f1_score(Y_test, gauss_pred, average=None)\n",
    "    return fun_results(gauss_score)\n",
    "\n",
    "fun_GaussianNB(X_train, Y_train)\n"
   ]
  },
  {
   "cell_type": "code",
   "execution_count": null,
   "id": "ae0b2d00",
   "metadata": {},
   "outputs": [],
   "source": [
    "# RandomForestClassifier\n",
    "\n",
    "def fun_RandomForestClassifier(X_train, Y_train):\n",
    "    rfc = RandomForestClassifier()\n",
    "    rfc = rfc.fit(X_train, Y_train)\n",
    "\n",
    "    rfc_pred = rfc.predict(X_test)\n",
    "\n",
    "    rfc_score = f1_score(Y_test, rfc_pred, average=None)\n",
    "    return fun_results(rfc_score)\n",
    "\n",
    "fun_RandomForestClassifier(X_train, Y_train)"
   ]
  },
  {
   "cell_type": "code",
   "execution_count": null,
   "id": "09bd8e0c",
   "metadata": {},
   "outputs": [],
   "source": [
    "#K_Means CLusturing\n",
    "\n",
    "def fun_kmeansclusture(X_train, Y_train):\n",
    "    k_means = KMeans()\n",
    "    k_means = k_means.fit(X_train, Y_train)\n",
    "\n",
    "    k_means_pred = k_means.predict(X_test)\n",
    "\n",
    "    k_means_score = f1_score(Y_test, k_means_pred, average=None)\n",
    "    return fun_results(k_means_score)\n",
    "\n",
    "fun_kmeansclusture(X_train, Y_train)"
   ]
  },
  {
   "cell_type": "code",
   "execution_count": null,
   "id": "d48efc32",
   "metadata": {},
   "outputs": [],
   "source": [
    "df_model_2 = df[['OFFENSE_CODE', 'DISTRICT','MONTH','DAY_OF_WEEK','HOUR','Day','Night']]"
   ]
  },
  {
   "cell_type": "code",
   "execution_count": null,
   "id": "79c8e80f",
   "metadata": {},
   "outputs": [],
   "source": [
    "df_model_2['OFFENSE_CODE'] = pd.to_numeric(df_model_2['OFFENSE_CODE'], errors='coerce')"
   ]
  },
  {
   "cell_type": "code",
   "execution_count": null,
   "id": "79616651",
   "metadata": {},
   "outputs": [],
   "source": [
    "# DISTRICT\n",
    "\n",
    "df_model_2['DISTRICT'] = df_model_2['DISTRICT'].map({\n",
    "    'B3':1, \n",
    "    'E18':2, \n",
    "    'B2':3, \n",
    "    'E5':4, \n",
    "    'C6':5, \n",
    "    'D14':6, \n",
    "    'E13':7, \n",
    "    'C11':8, \n",
    "    'D4':9, \n",
    "    'A7':10, \n",
    "    'A1':11, \n",
    "    'A15':12\n",
    "})\n",
    "\n",
    "df_model_2['DISTRICT'].unique()"
   ]
  },
  {
   "cell_type": "code",
   "execution_count": null,
   "id": "244eff54",
   "metadata": {},
   "outputs": [],
   "source": [
    "# DAY_OF_WEEK\n",
    "\n",
    "df_model_2['DAY_OF_WEEK'] = df_model_2['DAY_OF_WEEK'].map({\n",
    "    'Tuesday':2, \n",
    "    'Saturday':6, \n",
    "    'Monday':1, \n",
    "    'Sunday':7, \n",
    "    'Thursday':4, \n",
    "    'Wednesday':3,\n",
    "    'Friday':5\n",
    "})\n",
    "\n",
    "df_model_2['DAY_OF_WEEK'].unique()\n"
   ]
  },
  {
   "cell_type": "code",
   "execution_count": null,
   "id": "09e79c91",
   "metadata": {},
   "outputs": [],
   "source": [
    "df_model_2.isnull().sum()"
   ]
  },
  {
   "cell_type": "code",
   "execution_count": null,
   "id": "0e13e1a8",
   "metadata": {},
   "outputs": [],
   "source": [
    "df_model_2 = df_model_2.dropna()\n"
   ]
  },
  {
   "cell_type": "code",
   "execution_count": null,
   "id": "ce805b85",
   "metadata": {},
   "outputs": [],
   "source": [
    "df_model_2['DISTRICT'].unique()\n"
   ]
  },
  {
   "cell_type": "code",
   "execution_count": null,
   "id": "17d88604",
   "metadata": {},
   "outputs": [],
   "source": [
    "df_model_2.shape\n"
   ]
  },
  {
   "cell_type": "code",
   "execution_count": null,
   "id": "c495a445",
   "metadata": {},
   "outputs": [],
   "source": [
    "x = df_model_2[['OFFENSE_CODE','MONTH','DAY_OF_WEEK','HOUR','Day','Night']]\n",
    "y = df_model_2['DISTRICT']"
   ]
  },
  {
   "cell_type": "code",
   "execution_count": null,
   "id": "e28ea9f9",
   "metadata": {},
   "outputs": [],
   "source": [
    "# Split dataframe into random train and test subsets\n",
    "\n",
    "X_train, X_test, Y_train, Y_test = train_test_split(\n",
    "    x,\n",
    "    y, \n",
    "    test_size = 0.1,\n",
    "    random_state=42\n",
    ")\n",
    "\n",
    "print(X_train.shape, Y_train.shape)\n",
    "print(X_test.shape, Y_test.shape)"
   ]
  },
  {
   "cell_type": "code",
   "execution_count": null,
   "id": "e646b00a",
   "metadata": {},
   "outputs": [],
   "source": [
    "fun_DecisionTreeClassifier(X_train, Y_train)\n"
   ]
  },
  {
   "cell_type": "code",
   "execution_count": null,
   "id": "2bd968f2",
   "metadata": {},
   "outputs": [],
   "source": [
    "fun_BernoulliNB(X_train, Y_train)\n"
   ]
  },
  {
   "cell_type": "code",
   "execution_count": null,
   "id": "afbb0862",
   "metadata": {},
   "outputs": [],
   "source": [
    "fun_ExtraTreeClassifier(X_train, Y_train)\n"
   ]
  },
  {
   "cell_type": "code",
   "execution_count": null,
   "id": "6c33b77e",
   "metadata": {},
   "outputs": [],
   "source": [
    "fun_KNeighborsClassifier(X_train, Y_train)\n"
   ]
  },
  {
   "cell_type": "code",
   "execution_count": null,
   "id": "65a6c53c",
   "metadata": {},
   "outputs": [],
   "source": [
    "fun_GaussianNB(X_train, Y_train)\n"
   ]
  },
  {
   "cell_type": "code",
   "execution_count": null,
   "id": "9e74c41e",
   "metadata": {},
   "outputs": [],
   "source": [
    "fun_RandomForestClassifier(X_train, Y_train)\n"
   ]
  },
  {
   "cell_type": "code",
   "execution_count": null,
   "id": "931cc8ac",
   "metadata": {},
   "outputs": [],
   "source": [
    "fun_kmeansclusture(X_train, Y_train)"
   ]
  },
  {
   "cell_type": "code",
   "execution_count": null,
   "id": "051ff441",
   "metadata": {},
   "outputs": [],
   "source": [
    "df_model3 = df[['DISTRICT','REPORTING_AREA', 'MONTH','DAY_OF_WEEK','HOUR','UCR_PART','Lat','Long']]\n"
   ]
  },
  {
   "cell_type": "code",
   "execution_count": null,
   "id": "733bb57c",
   "metadata": {},
   "outputs": [],
   "source": [
    "df_model3['DISTRICT'] = df_model3['DISTRICT'].map({\n",
    "    'B3':1, \n",
    "    'E18':2, \n",
    "    'B2':3, \n",
    "    'E5':4, \n",
    "    'C6':5, \n",
    "    'D14':6, \n",
    "    'E13':7, \n",
    "    'C11':8, \n",
    "    'D4':9, \n",
    "    'A7':10, \n",
    "    'A1':11, \n",
    "    'A15':12\n",
    "})"
   ]
  },
  {
   "cell_type": "code",
   "execution_count": null,
   "id": "944fc3c2",
   "metadata": {},
   "outputs": [],
   "source": [
    "# REPORTING_AREA\n",
    "\n",
    "df_model3['REPORTING_AREA'] = pd.to_numeric(df_model3['REPORTING_AREA'], errors='coerce')\n"
   ]
  },
  {
   "cell_type": "code",
   "execution_count": null,
   "id": "50c362c9",
   "metadata": {},
   "outputs": [],
   "source": [
    "# DAY_OF_WEEK\n",
    "\n",
    "df_model3['DAY_OF_WEEK'] = df_model3['DAY_OF_WEEK'].map({\n",
    "    'Tuesday':2, \n",
    "    'Saturday':6, \n",
    "    'Monday':1, \n",
    "    'Sunday':7, \n",
    "    'Thursday':4, \n",
    "    'Wednesday':3,\n",
    "    'Friday':5\n",
    "})"
   ]
  },
  {
   "cell_type": "code",
   "execution_count": null,
   "id": "2aa81be8",
   "metadata": {},
   "outputs": [],
   "source": [
    "df_model3['UCR_PART'].unique()"
   ]
  },
  {
   "cell_type": "code",
   "execution_count": null,
   "id": "50e9ca22",
   "metadata": {},
   "outputs": [],
   "source": [
    "df_model3['UCR_PART'] = df_model3['UCR_PART'].map({\n",
    "    'Part Three':3, \n",
    "    'Part One':1, \n",
    "    'Part Two':2, \n",
    "#    'Other':4\n",
    "})"
   ]
  },
  {
   "cell_type": "code",
   "execution_count": null,
   "id": "9ae43dd6",
   "metadata": {},
   "outputs": [],
   "source": [
    "df_model3 = df_model3.dropna()\n",
    "print(df_model3.shape)\n",
    "df_model3.isnull().sum()"
   ]
  },
  {
   "cell_type": "code",
   "execution_count": null,
   "id": "7b2d84bf",
   "metadata": {},
   "outputs": [],
   "source": [
    "x = df_model3[['DISTRICT','REPORTING_AREA', 'MONTH','DAY_OF_WEEK','HOUR','Lat','Long']]\n",
    "y = df_model3['UCR_PART']\n"
   ]
  },
  {
   "cell_type": "code",
   "execution_count": null,
   "id": "3192d25d",
   "metadata": {},
   "outputs": [],
   "source": [
    "# Split dataframe into random train and test subsets\n",
    "\n",
    "X_train, X_test, Y_train, Y_test = train_test_split(\n",
    "    x,\n",
    "    y, \n",
    "    test_size = 0.1,\n",
    "    random_state=42\n",
    ")\n",
    "\n",
    "print(X_train.shape, Y_train.shape)\n",
    "print(X_test.shape, Y_test.shape)"
   ]
  },
  {
   "cell_type": "code",
   "execution_count": null,
   "id": "47d0158d",
   "metadata": {},
   "outputs": [],
   "source": [
    "fun_DecisionTreeClassifier(X_train, Y_train)\n"
   ]
  },
  {
   "cell_type": "code",
   "execution_count": null,
   "id": "f6f04a38",
   "metadata": {},
   "outputs": [],
   "source": [
    "fun_BernoulliNB(X_train, Y_train)\n"
   ]
  },
  {
   "cell_type": "code",
   "execution_count": null,
   "id": "a2e05ec4",
   "metadata": {},
   "outputs": [],
   "source": [
    "fun_ExtraTreeClassifier(X_train, Y_train)\n"
   ]
  },
  {
   "cell_type": "code",
   "execution_count": null,
   "id": "9e150b8a",
   "metadata": {},
   "outputs": [],
   "source": [
    "fun_KNeighborsClassifier(X_train, Y_train)\n"
   ]
  },
  {
   "cell_type": "code",
   "execution_count": null,
   "id": "27242dbe",
   "metadata": {},
   "outputs": [],
   "source": [
    "fun_GaussianNB(X_train, Y_train)\n"
   ]
  },
  {
   "cell_type": "code",
   "execution_count": null,
   "id": "04c3d271",
   "metadata": {},
   "outputs": [],
   "source": [
    "fun_RandomForestClassifier(X_train, Y_train)\n"
   ]
  },
  {
   "cell_type": "code",
   "execution_count": null,
   "id": "ddeb8708",
   "metadata": {},
   "outputs": [],
   "source": [
    "fun_kmeansclusture(X_train,Y_train)"
   ]
  },
  {
   "cell_type": "code",
   "execution_count": null,
   "id": "39c4465b",
   "metadata": {},
   "outputs": [],
   "source": [
    "location.isnull().sum()"
   ]
  },
  {
   "cell_type": "code",
   "execution_count": null,
   "id": "c9ff5abe",
   "metadata": {},
   "outputs": [],
   "source": [
    "location.shape"
   ]
  },
  {
   "cell_type": "code",
   "execution_count": null,
   "id": "0cf3772d",
   "metadata": {},
   "outputs": [],
   "source": [
    "# Previous drawn map of city using scatterplot\n",
    "\n",
    "x = location['Long']\n",
    "y = location['Lat']\n",
    "\n",
    "colors = np.random.rand(len(location))\n",
    "\n",
    "plt.figure(figsize=(20,20))\n",
    "plt.scatter(x, y,c=colors, alpha=0.5)\n",
    "plt.show()\n"
   ]
  },
  {
   "cell_type": "code",
   "execution_count": null,
   "id": "be96448c",
   "metadata": {},
   "outputs": [],
   "source": [
    "# Information:\n",
    "# Now Clusturing our scatterplot curve into different pieces or colors that predictor is need to show the user the historical data of the city.\n",
    "# And after viewing the historical data and with the help of these different clustures user can predict the and be aware of the time & location of the crime.  \n",
    "\n",
    "\n",
    "\n",
    "# We will use K-means Clusturing algorithms."
   ]
  },
  {
   "cell_type": "code",
   "execution_count": null,
   "id": "dc11f3ce",
   "metadata": {},
   "outputs": [],
   "source": [
    "X = location\n",
    "X = X[~np.isnan(X)]"
   ]
  },
  {
   "cell_type": "code",
   "execution_count": null,
   "id": "1512b998",
   "metadata": {},
   "outputs": [],
   "source": [
    "#2 clustures\n",
    "#K means Clustering #K means  \n",
    "def doKmeans(X, nclust):\n",
    "    model = KMeans(nclust)\n",
    "    model.fit(X)\n",
    "    clust_labels = model.predict(X)\n",
    "    cent = model.cluster_centers_\n",
    "    return (clust_labels, cent)\n",
    "\n",
    "clust_labels, cent = doKmeans(X, 2)\n",
    "kmeans = pd.DataFrame(clust_labels)\n",
    "X.insert((X.shape[1]),'kmeans',kmeans)\n"
   ]
  },
  {
   "cell_type": "code",
   "execution_count": null,
   "id": "3ee4d568",
   "metadata": {},
   "outputs": [],
   "source": [
    "# FIGURE NAME:\n",
    "# Coloring or dividing the loaction areas into 2 different clustures.\n",
    "\n",
    "\n",
    "\n",
    "fig = plt.figure(figsize=(20,20))\n",
    "ax = fig.add_subplot(111)\n",
    "scatter = ax.scatter(X['Long'],X['Lat'],\n",
    "                     c=kmeans[0],s=50)\n",
    "ax.set_title('K-Means Clustering')\n",
    "ax.set_xlabel('Long')\n",
    "ax.set_ylabel('Lat')\n",
    "plt.colorbar(scatter)\n"
   ]
  },
  {
   "cell_type": "code",
   "execution_count": null,
   "id": "9f40306f",
   "metadata": {},
   "outputs": [],
   "source": [
    "X = location\n",
    "X = X[~np.isnan(X)]"
   ]
  },
  {
   "cell_type": "code",
   "execution_count": null,
   "id": "e7f3253c",
   "metadata": {},
   "outputs": [],
   "source": [
    "#3 clustures\n",
    "clust_labels, cent = doKmeans(X, 3)\n",
    "kmeans = pd.DataFrame(clust_labels)\n",
    "X.insert((X.shape[1]),'kmeans',kmeans)\n"
   ]
  },
  {
   "cell_type": "code",
   "execution_count": null,
   "id": "26a86755",
   "metadata": {},
   "outputs": [],
   "source": [
    "# FIGURE NAME:\n",
    "# Coloring or dividing the loaction areas into 3 different clustures.\n",
    "\n",
    "fig = plt.figure(figsize=(20,20))\n",
    "ax = fig.add_subplot(111)\n",
    "scatter = ax.scatter(X['Long'],X['Lat'],\n",
    "                     c=kmeans[0],s=50)\n",
    "ax.set_title('K-Means Clustering')\n",
    "ax.set_xlabel('Long')\n",
    "ax.set_ylabel('Lat')\n",
    "plt.colorbar(scatter)"
   ]
  },
  {
   "cell_type": "code",
   "execution_count": null,
   "id": "4d48bc79",
   "metadata": {},
   "outputs": [],
   "source": [
    "X = location\n",
    "X = X[~np.isnan(X)]"
   ]
  },
  {
   "cell_type": "code",
   "execution_count": null,
   "id": "a51eb6ed",
   "metadata": {},
   "outputs": [],
   "source": [
    "#5 clustures\n",
    "clust_labels, cent = doKmeans(X, 5)\n",
    "kmeans = pd.DataFrame(clust_labels)\n",
    "X.insert((X.shape[1]),'kmeans',kmeans)\n"
   ]
  },
  {
   "cell_type": "code",
   "execution_count": null,
   "id": "4970ac6d",
   "metadata": {},
   "outputs": [],
   "source": [
    "# FIGURE NAME:\n",
    "# Coloring or dividing the loaction areas into 5 different clustures.\n",
    "\n",
    "fig = plt.figure(figsize=(20,20))\n",
    "ax = fig.add_subplot(111)\n",
    "scatter = ax.scatter(X['Long'],X['Lat'],\n",
    "                     c=kmeans[0],s=50)\n",
    "ax.set_title('K-Means Clustering')\n",
    "ax.set_xlabel('Long')\n",
    "ax.set_ylabel('Lat')\n",
    "plt.colorbar(scatter)\n"
   ]
  },
  {
   "cell_type": "code",
   "execution_count": null,
   "id": "1c362eb5",
   "metadata": {},
   "outputs": [],
   "source": [
    "X = location\n",
    "X = X[~np.isnan(X)]"
   ]
  },
  {
   "cell_type": "code",
   "execution_count": null,
   "id": "0b752728",
   "metadata": {},
   "outputs": [],
   "source": [
    "#10 clustures\n",
    "clust_labels, cent = doKmeans(X, 10)\n",
    "kmeans = pd.DataFrame(clust_labels)\n",
    "X.insert((X.shape[1]),'kmeans',kmeans)"
   ]
  },
  {
   "cell_type": "code",
   "execution_count": null,
   "id": "ca13fb13",
   "metadata": {},
   "outputs": [],
   "source": [
    "# FIGURE NAME:\n",
    "# Coloring or dividing the loaction areas into 10 different clustures.\n",
    "\n",
    "fig = plt.figure(figsize=(20,20))\n",
    "ax = fig.add_subplot(111)\n",
    "scatter = ax.scatter(X['Long'],X['Lat'],\n",
    "                     c=kmeans[0],s=50)\n",
    "ax.set_title('K-Means Clustering')\n",
    "ax.set_xlabel('Long')\n",
    "ax.set_ylabel('Lat')\n",
    "plt.colorbar(scatter)\n"
   ]
  },
  {
   "cell_type": "code",
   "execution_count": null,
   "id": "af1edbd5",
   "metadata": {},
   "outputs": [],
   "source": [
    "#Clustering with location and OFFENSE_CODE"
   ]
  },
  {
   "cell_type": "code",
   "execution_count": null,
   "id": "6927c6ce",
   "metadata": {},
   "outputs": [],
   "source": [
    "df_clus = df[['OFFENSE_CODE','Long','Lat']]\n",
    "df_clus = df_clus.loc[(df_clus['Lat'] > 40) & (df_clus['Long'] < -60)]\n",
    "#df_clus['REPORTING_AREA'] = pd.to_numeric(df_model['REPORTING_AREA'], errors='coerce')\n",
    "df_clus = df_clus.dropna()\n",
    "df_clus.describe()"
   ]
  },
  {
   "cell_type": "code",
   "execution_count": null,
   "id": "c31fda43",
   "metadata": {},
   "outputs": [],
   "source": [
    "X = df_clus\n",
    "X = X[~np.isnan(X)]"
   ]
  },
  {
   "cell_type": "code",
   "execution_count": null,
   "id": "9743e639",
   "metadata": {},
   "outputs": [],
   "source": [
    "#2 clustures\n",
    "clust_labels, cent = doKmeans(X, 2)\n",
    "kmeans = pd.DataFrame(clust_labels)\n",
    "X.insert((X.shape[1]),'kmeans',kmeans)"
   ]
  },
  {
   "cell_type": "code",
   "execution_count": null,
   "id": "d19e604d",
   "metadata": {},
   "outputs": [],
   "source": [
    "# FIGURE NAME:\n",
    "# Coloring and dividing location areas by offense code into 2 different clustures\n",
    "fig = plt.figure(figsize=(20,20))\n",
    "ax = fig.add_subplot(111)\n",
    "scatter = ax.scatter(X['Long'],X['Lat'],\n",
    "                     c=kmeans[0],s=5)\n",
    "ax.set_title('K-Means Clustering')\n",
    "ax.set_xlabel('Long')\n",
    "ax.set_ylabel('Lat')\n",
    "plt.colorbar(scatter)\n"
   ]
  },
  {
   "cell_type": "code",
   "execution_count": null,
   "id": "81cf5c39",
   "metadata": {},
   "outputs": [],
   "source": [
    "#Clustering with location and month"
   ]
  },
  {
   "cell_type": "code",
   "execution_count": null,
   "id": "722ad5c8",
   "metadata": {},
   "outputs": [],
   "source": [
    "df_clus = df[['MONTH','Long','Lat']]\n",
    "df_clus = df_clus.loc[(df_clus['Lat'] > 40) & (df_clus['Long'] < -60)]\n",
    "df_clus = df_clus.dropna()"
   ]
  },
  {
   "cell_type": "code",
   "execution_count": null,
   "id": "526113c8",
   "metadata": {},
   "outputs": [],
   "source": [
    "X = df_clus\n",
    "X = X[~np.isnan(X)]\n"
   ]
  },
  {
   "cell_type": "code",
   "execution_count": null,
   "id": "df4cbd90",
   "metadata": {},
   "outputs": [],
   "source": [
    "#2 clustures\n",
    "clust_labels, cent = doKmeans(X, 2)\n",
    "kmeans = pd.DataFrame(clust_labels)\n",
    "X.insert((X.shape[1]),'kmeans',kmeans)"
   ]
  },
  {
   "cell_type": "code",
   "execution_count": null,
   "id": "45358296",
   "metadata": {},
   "outputs": [],
   "source": [
    "# FIGURE NAME:\n",
    "# Coloring and dividing location areas monthly into 2 different clusture\n",
    "fig = plt.figure(figsize=(20,20))\n",
    "ax = fig.add_subplot(111)\n",
    "scatter = ax.scatter(X['Long'],X['Lat'],\n",
    "                     c=kmeans[0],s=5)\n",
    "ax.set_title('K-Means Clustering')\n",
    "ax.set_xlabel('Long')\n",
    "ax.set_ylabel('Lat')\n",
    "plt.colorbar(scatter)\n"
   ]
  },
  {
   "cell_type": "code",
   "execution_count": null,
   "id": "7e5f46b0",
   "metadata": {},
   "outputs": [],
   "source": [
    "# DRAWING FINAL MAP WITH CRIMINAL INCIDENT INDEX BY COMBINING ALL MARKERS TOGETHER"
   ]
  },
  {
   "cell_type": "code",
   "execution_count": null,
   "id": "27835af4",
   "metadata": {},
   "outputs": [],
   "source": [
    "unique_locations = df['Location'].value_counts()"
   ]
  },
  {
   "cell_type": "code",
   "execution_count": null,
   "id": "5b5ace8b",
   "metadata": {},
   "outputs": [],
   "source": [
    "unique_locations.index\n"
   ]
  },
  {
   "cell_type": "code",
   "execution_count": null,
   "id": "8b8ecacb",
   "metadata": {},
   "outputs": [],
   "source": [
    "CR_index = pd.DataFrame({\"Raw_String\" : unique_locations.index, \"ValueCount\":unique_locations})\n",
    "CR_index.index = range(len(unique_locations))\n",
    "CR_index.head()"
   ]
  },
  {
   "cell_type": "code",
   "execution_count": null,
   "id": "e9aa2893",
   "metadata": {},
   "outputs": [],
   "source": [
    "def Location_extractor(Raw_Str):\n",
    "    preProcess = Raw_Str[1:-1].split(',')\n",
    "    lat =  float(preProcess[0])\n",
    "    long = float(preProcess[1])\n",
    "    return (lat, long)"
   ]
  },
  {
   "cell_type": "code",
   "execution_count": null,
   "id": "913f2df2",
   "metadata": {},
   "outputs": [],
   "source": [
    "CR_index['LocationCoord'] = CR_index['Raw_String'].apply(Location_extractor)\n"
   ]
  },
  {
   "cell_type": "code",
   "execution_count": null,
   "id": "a6908372",
   "metadata": {},
   "outputs": [],
   "source": [
    "CR_index  = CR_index.drop(columns=['Raw_String'], axis = 1)\n"
   ]
  },
  {
   "cell_type": "code",
   "execution_count": null,
   "id": "eb055bdb",
   "metadata": {},
   "outputs": [],
   "source": [
    "n= folium.Map([42.348624, -71.062492], zoom_start=14)\n",
    "n"
   ]
  },
  {
   "cell_type": "code",
   "execution_count": null,
   "id": "a57caa95",
   "metadata": {},
   "outputs": [],
   "source": [
    "%%time\n",
    "\n",
    "n = folium.Map(location=[42.348624, -71.062492],\n",
    "                        zoom_start=14)\n",
    "\n",
    "for i in range(500):\n",
    "    lat = CR_index['LocationCoord'].iloc[i][0]\n",
    "    long = CR_index['LocationCoord'].iloc[i][1]\n",
    "    radius = CR_index['ValueCount'].iloc[i] / 45\n",
    "    \n",
    "    if CR_index['ValueCount'].iloc[i] > 1000:\n",
    "        color = \"#FF0000\"\n",
    "    else:\n",
    "        color = \"#0000FF\"\n",
    "    \n",
    "    popup_text = \"\"\"Latitude : {}<br>\n",
    "                Longitude : {}<br>\n",
    "                Criminal Incidents : {}<br>\"\"\"\n",
    "    popup_text = popup_text.format(lat,\n",
    "                               long,\n",
    "                               CR_index['ValueCount'].iloc[i]\n",
    "                               )\n",
    "    folium.CircleMarker(location = [lat, long], popup= popup_text,radius = radius, color = color, fill = True).add_to(n)"
   ]
  },
  {
   "cell_type": "code",
   "execution_count": null,
   "id": "9a12d2a8",
   "metadata": {},
   "outputs": [],
   "source": [
    "n"
   ]
  }
 ],
 "metadata": {
  "kernelspec": {
   "display_name": "Python 3",
   "language": "python",
   "name": "python3"
  },
  "language_info": {
   "codemirror_mode": {
    "name": "ipython",
    "version": 3
   },
   "file_extension": ".py",
   "mimetype": "text/x-python",
   "name": "python",
   "nbconvert_exporter": "python",
   "pygments_lexer": "ipython3",
   "version": "3.8.8"
  }
 },
 "nbformat": 4,
 "nbformat_minor": 5
}
